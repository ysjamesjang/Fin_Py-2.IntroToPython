{
 "cells": [
  {
   "cell_type": "code",
   "execution_count": 58,
   "metadata": {},
   "outputs": [
    {
     "name": "stdout",
     "output_type": "stream",
     "text": [
      "Financial Analysis\n",
      "----------------------------\n",
      "Total Months: 86\n",
      "Total: $38382578\n",
      "Average Change: $-2315.12\n",
      "Greatest Increase in Profits: Feb-2012 ($1926159)\n",
      "Greatest Decrease in Profits: Sep-2013 ($-2196167)\n"
     ]
    }
   ],
   "source": [
    "# Import libraries\n",
    "import csv\n",
    "from pathlib import Path\n",
    "budget_filepath = Path('Resources/budget_data.csv')\n",
    "\n",
    "# Variables\n",
    "date = []\n",
    "amount = []\n",
    "amount_change = 0\n",
    "total_months = 0\n",
    "net_PL = 0\n",
    "net_change = 0\n",
    "avg_PL = 0\n",
    "maxProfitChange = 0\n",
    "maxLossChange = 0\n",
    "maxProfitMonth = ''\n",
    "maxLossMonth = ''\n",
    "\n",
    "# Loop script for variables\n",
    "with open(budget_filepath, 'r') as csvfile:\n",
    "    csvreader = csv.reader(csvfile, delimiter=',')\n",
    "    header = next(csvreader)\n",
    "\n",
    "    # Read each row of data after the header\n",
    "    for row in csvreader:\n",
    "        date.append(row[0])\n",
    "        amount.append(int(row[1]))\n",
    "\n",
    "prev_total=0\n",
    "iter_amount = []\n",
    "iter_month = date[1:]\n",
    "for total in amount:\n",
    "    if prev_total == 0:\n",
    "        prev_total = int(total)\n",
    "    else:\n",
    "        amount_change += (int(total)-prev_total)\n",
    "        iter_amount.append(int(total)-prev_total)\n",
    "        prev_total = int(total)\n",
    "    prev_total = int(total)\n",
    "iter_dict = zip(iter_month, iter_amount)\n",
    "for key,value in iter_dict:\n",
    "    if value > maxProfitChange:\n",
    "        maxProfitChange = value\n",
    "        maxProfitMonth = key\n",
    "    if value < maxLossChange:\n",
    "        maxLossChange = value\n",
    "        maxLossMonth = key\n",
    "total_months = len(date)\n",
    "net_PL = sum(amount)\n",
    "avg_PL = round(amount_change/(total_months-1),2)\n",
    "\n",
    "# Analysis Output\n",
    "print(\"Financial Analysis\")\n",
    "print(\"----------------------------\")\n",
    "print(f\"Total Months: {total_months}\")\n",
    "print(f\"Total: ${net_PL}\")\n",
    "print(f\"Average Change: ${avg_PL}\")\n",
    "print(f\"Greatest Increase in Profits: {maxProfitMonth} (${maxProfitChange})\")\n",
    "print(f\"Greatest Decrease in Profits: {maxLossMonth} (${maxLossChange})\")"
   ]
  },
  {
   "cell_type": "code",
   "execution_count": 57,
   "metadata": {},
   "outputs": [
    {
     "name": "stdout",
     "output_type": "stream",
     "text": [
      "Financial Analysis\n",
      "----------------------------\n",
      "Total Months: 86\n",
      "Total: $38382578\n",
      "Average Change: $-2315.12\n",
      "Greatest Increase in Profits: Feb-2012 ($1926159)\n",
      "Greatest Decrease in Profits: Sep-2013 ($-2196167)\n"
     ]
    }
   ],
   "source": [
    "# Prelims\n",
    "import pandas as pd\n",
    "df = pd.read_csv('Resources/budget_data.csv')\n",
    "\n",
    "# Variables\n",
    "total_months = len(df['Profit/Losses'])\n",
    "net_PL = 0\n",
    "net_change = 0\n",
    "avg_PL = 0\n",
    "maxProfitChange = 0\n",
    "maxLossChange = 0\n",
    "maxProfitMonth = ''\n",
    "maxLossMonth = ''\n",
    "\n",
    "# Loop script for variables\n",
    "lastMonthPlaceholder = 0\n",
    "for i in range(total_months):\n",
    "    net_PL += df['Profit/Losses'][i]\n",
    "    if lastMonthPlaceholder == 0:\n",
    "        lastMonthPlaceholder = df['Profit/Losses'][i]\n",
    "    elif df['Profit/Losses'][i] > lastMonthPlaceholder:\n",
    "        if df['Profit/Losses'][i] - lastMonthPlaceholder > maxProfitChange:\n",
    "            maxProfitChange = df['Profit/Losses'][i] - lastMonthPlaceholder\n",
    "            maxProfitMonth = df['Date'][i]\n",
    "    elif df['Profit/Losses'][i] < lastMonthPlaceholder:\n",
    "        if df['Profit/Losses'][i] - lastMonthPlaceholder < maxLossChange:\n",
    "            maxLossChange = df['Profit/Losses'][i] - lastMonthPlaceholder\n",
    "            maxLossMonth = df['Date'][i]\n",
    "    if lastMonthPlaceholder != 0:\n",
    "        net_change += df['Profit/Losses'][i]-lastMonthPlaceholder\n",
    "    lastMonthPlaceholder = df['Profit/Losses'][i]\n",
    "avg_PL = round(net_change/(total_months-1),2)\n",
    "\n",
    "# Analysis Output\n",
    "print(\"Financial Analysis\")\n",
    "print(\"----------------------------\")\n",
    "print(f\"Total Months: {total_months}\")\n",
    "print(f\"Total: ${net_PL}\")\n",
    "print(f\"Average Change: ${avg_PL}\")\n",
    "print(f\"Greatest Increase in Profits: {maxProfitMonth} (${maxProfitChange})\")\n",
    "print(f\"Greatest Decrease in Profits: {maxLossMonth} (${maxLossChange})\")"
   ]
  }
 ],
 "metadata": {
  "kernelspec": {
   "display_name": "Python 3",
   "language": "python",
   "name": "python3"
  },
  "language_info": {
   "codemirror_mode": {
    "name": "ipython",
    "version": 3
   },
   "file_extension": ".py",
   "mimetype": "text/x-python",
   "name": "python",
   "nbconvert_exporter": "python",
   "pygments_lexer": "ipython3",
   "version": "3.7.3"
  }
 },
 "nbformat": 4,
 "nbformat_minor": 4
}

{
 "cells": [
  {
   "cell_type": "code",
   "execution_count": 1,
   "metadata": {},
   "outputs": [],
   "source": [
    "# Prelims\n",
    "import pandas as pd\n",
    "df = pd.read_csv('Resources/budget_data.csv')"
   ]
  },
  {
   "cell_type": "code",
   "execution_count": 2,
   "metadata": {},
   "outputs": [],
   "source": [
    "# Variables\n",
    "total_months = len(df['Profit/Losses'])\n",
    "net_PL = 0\n",
    "net_change = 0\n",
    "avg_PL = 0\n",
    "maxProfitChange = 0\n",
    "maxLossChange = 0\n",
    "maxProfitMonth = ''\n",
    "maxLossMonth = ''\n",
    "\n",
    "# Loop script for variables\n",
    "lastMonthPlaceholder = 0\n",
    "for i in range(total_months):\n",
    "    net_PL += df['Profit/Losses'][i]\n",
    "    if lastMonthPlaceholder == 0:\n",
    "        lastMonthPlaceholder = df['Profit/Losses'][i]\n",
    "    elif df['Profit/Losses'][i] > lastMonthPlaceholder:\n",
    "        if df['Profit/Losses'][i] - lastMonthPlaceholder > maxProfitChange:\n",
    "            maxProfitChange = df['Profit/Losses'][i] - lastMonthPlaceholder\n",
    "            maxProfitMonth = df['Date'][i]\n",
    "    elif df['Profit/Losses'][i] < lastMonthPlaceholder:\n",
    "        if df['Profit/Losses'][i] - lastMonthPlaceholder < maxLossChange:\n",
    "            maxLossChange = df['Profit/Losses'][i] - lastMonthPlaceholder\n",
    "            maxLossMonth = df['Date'][i]\n",
    "    if lastMonthPlaceholder != 0:\n",
    "        net_change += df['Profit/Losses'][i]-lastMonthPlaceholder\n",
    "    lastMonthPlaceholder = df['Profit/Losses'][i]\n",
    "avg_change = round(net_change/(total_months-1),2)"
   ]
  },
  {
   "cell_type": "code",
   "execution_count": 3,
   "metadata": {},
   "outputs": [
    {
     "name": "stdout",
     "output_type": "stream",
     "text": [
      "Financial Analysis\n",
      "----------------------------\n",
      "Total Months: 86\n",
      "Total: $38382578\n",
      "Average Change: $-2315.12\n",
      "Greatest Increase in Profits: Feb-2012 ($1926159)\n",
      "Greatest Decrease in Profits: Sep-2013 ($-2196167)\n"
     ]
    }
   ],
   "source": [
    "# Analysis Output\n",
    "print(\"Financial Analysis\")\n",
    "print(\"----------------------------\")\n",
    "print(f\"Total Months: {total_months}\")\n",
    "print(f\"Total: ${net_PL}\")\n",
    "print(f\"Average Change: ${avg_change}\")\n",
    "print(f\"Greatest Increase in Profits: {maxProfitMonth} (${maxProfitChange})\")\n",
    "print(f\"Greatest Decrease in Profits: {maxLossMonth} (${maxLossChange})\")"
   ]
  },
  {
   "cell_type": "code",
   "execution_count": null,
   "metadata": {},
   "outputs": [],
   "source": []
  }
 ],
 "metadata": {
  "kernelspec": {
   "display_name": "Python 3",
   "language": "python",
   "name": "python3"
  },
  "language_info": {
   "codemirror_mode": {
    "name": "ipython",
    "version": 3
   },
   "file_extension": ".py",
   "mimetype": "text/x-python",
   "name": "python",
   "nbconvert_exporter": "python",
   "pygments_lexer": "ipython3",
   "version": "3.7.9"
  }
 },
 "nbformat": 4,
 "nbformat_minor": 4
}
